{
 "cells": [
  {
   "cell_type": "markdown",
   "metadata": {},
   "source": [
    "# v2 API"
   ]
  },
  {
   "cell_type": "code",
   "execution_count": null,
   "metadata": {
    "tags": []
   },
   "outputs": [],
   "source": [
    "pip install twarc"
   ]
  },
  {
   "cell_type": "code",
   "execution_count": null,
   "metadata": {},
   "outputs": [],
   "source": [
    "pip install pandas"
   ]
  },
  {
   "cell_type": "code",
   "execution_count": null,
   "metadata": {},
   "outputs": [],
   "source": [
    "pip install matplotlib"
   ]
  },
  {
   "cell_type": "code",
   "execution_count": null,
   "metadata": {},
   "outputs": [],
   "source": [
    "from twarc import Twarc2\n",
    "from datetime import datetime, timezone\n",
    "import pandas as pd\n",
    "import matplotlib.pyplot as plt"
   ]
  },
  {
   "cell_type": "markdown",
   "metadata": {},
   "source": [
    "## Authentification"
   ]
  },
  {
   "cell_type": "code",
   "execution_count": null,
   "metadata": {},
   "outputs": [],
   "source": [
    "# NOTE: these are my personal credentials. For this code to work on your \n",
    "# computer, you will need a file named \"API_credentials.txt\" in the same \n",
    "# directory as this script, with the information stored in the form\n",
    "# access_token=VVV\n",
    "# access_token_secret=WWW\n",
    "# consumer_key=XXX\n",
    "# consumer_secret=YYY\n",
    "# bearer_token=ZZZ\n",
    "\n",
    "# For the following it's sufficient if you have just a bearer_token\n",
    "\n",
    "credentials = {}\n",
    "with open('API_credentials_V2.txt', 'r') as f:\n",
    "    for line in f:\n",
    "        credentials[line.split('=')[0]] = line.split('=')[1].strip('\\n')\n",
    "        \n",
    "access_token = credentials['access_token']\n",
    "access_token_secret = credentials['access_token_secret']\n",
    "consumer_key = credentials['consumer_key']\n",
    "consumer_secret = credentials['consumer_secret']\n",
    "bearer_token = credentials['bearer_token']"
   ]
  },
  {
   "cell_type": "code",
   "execution_count": null,
   "metadata": {},
   "outputs": [],
   "source": [
    "# alternatively, you can also paste the info from the app you just created here\n",
    "# see https://developer.twitter.com/en/portal/projects-and-apps\n",
    "access_token = 'VVV'\n",
    "access_token_secret = 'WWW'\n",
    "consumer_key = 'XXX'\n",
    "consumer_secret = 'YYY'\n",
    "bearer_token = 'ZZZ'"
   ]
  },
  {
   "cell_type": "code",
   "execution_count": null,
   "metadata": {},
   "outputs": [],
   "source": [
    "# user authentification: managing tweets\n",
    "twarc_client = Twarc2(\n",
    "    consumer_key=consumer_key,\n",
    "    consumer_secret=consumer_secret,\n",
    "    access_token=access_token,\n",
    "    access_token_secret=access_token_secret\n",
    ")"
   ]
  },
  {
   "cell_type": "code",
   "execution_count": null,
   "metadata": {},
   "outputs": [],
   "source": [
    "# app authentification: getting data\n",
    "twarc_client = Twarc2(bearer_token=bearer_token)"
   ]
  },
  {
   "cell_type": "markdown",
   "metadata": {},
   "source": [
    "Different API [rate limits](https://developer.twitter.com/en/docs/twitter-api/rate-limits) apply to user and app authentification."
   ]
  },
  {
   "cell_type": "markdown",
   "metadata": {},
   "source": [
    "## Search"
   ]
  },
  {
   "cell_type": "code",
   "execution_count": null,
   "metadata": {},
   "outputs": [],
   "source": [
    "# empty list to store the search results\n",
    "tweets = [] \n",
    "\n",
    "# tweets we look for should contain the following search string\n",
    "search_string = '#greatresignation'\n",
    "\n",
    "start = datetime(2022, 3, 4, 0, 0, 0, 0, tzinfo=timezone.utc)\n",
    "end = datetime(2022, 3, 5, 0, 0, 0, 0, tzinfo=timezone.utc)\n",
    "\n",
    "# search Twitter for tweets containing the search string in the specified time\n",
    "# window and store all the results in the list\n",
    "for tweet in twarc_client.search_all(\n",
    "        search_string,\n",
    "        start_time=start,\n",
    "        end_time=end):\n",
    "    tweets.append(tweet)"
   ]
  },
  {
   "cell_type": "code",
   "execution_count": null,
   "metadata": {},
   "outputs": [],
   "source": [
    "# pagination\n",
    "tweets"
   ]
  },
  {
   "cell_type": "code",
   "execution_count": null,
   "metadata": {},
   "outputs": [],
   "source": [
    "# tweets are returned in batches\n",
    "len(tweets[0][\"data\"])"
   ]
  },
  {
   "cell_type": "code",
   "execution_count": null,
   "metadata": {},
   "outputs": [],
   "source": [
    "# peek into the data\n",
    "tweets[0]['data'][1]['text']"
   ]
  },
  {
   "cell_type": "code",
   "execution_count": null,
   "metadata": {},
   "outputs": [],
   "source": [
    "# number of returned batches\n",
    "len(tweets)"
   ]
  },
  {
   "cell_type": "markdown",
   "metadata": {},
   "source": [
    "[Documentation](https://developer.twitter.com/en/docs/twitter-api/tweets/search/integrate/build-a-query) on how to build more sophisticated queries. "
   ]
  },
  {
   "cell_type": "markdown",
   "metadata": {},
   "source": [
    "## Users"
   ]
  },
  {
   "cell_type": "code",
   "execution_count": null,
   "metadata": {},
   "outputs": [],
   "source": [
    "users = []\n",
    "\n",
    "user_names = ['liveresignation']\n",
    "\n",
    "for user in twarc_client.user_lookup(\n",
    "        user_names,\n",
    "        usernames=True):\n",
    "    users.append(user)"
   ]
  },
  {
   "cell_type": "code",
   "execution_count": null,
   "metadata": {},
   "outputs": [],
   "source": [
    "users[0]['data'][0].keys()"
   ]
  },
  {
   "cell_type": "code",
   "execution_count": null,
   "metadata": {},
   "outputs": [],
   "source": [
    "users[0]['data'][0]['description']"
   ]
  },
  {
   "cell_type": "code",
   "execution_count": null,
   "metadata": {},
   "outputs": [],
   "source": [
    "users[0]['data'][0]['public_metrics']['followers_count']"
   ]
  },
  {
   "cell_type": "markdown",
   "metadata": {},
   "source": [
    "## Data fields"
   ]
  },
  {
   "cell_type": "code",
   "execution_count": null,
   "metadata": {},
   "outputs": [],
   "source": [
    "# The API returns JSON objects which are parsed as dictionaries in Python.\n",
    "# Dictionaries contain pairs of (key, value), where \"key\" is the name of a \n",
    "# \"data field\", such as \"id\" for the Tweet ID, and \"value\" contains the value\n",
    "# of the specific data field\n",
    "tweets[0][\"data\"][0].keys()"
   ]
  },
  {
   "cell_type": "code",
   "execution_count": null,
   "metadata": {},
   "outputs": [],
   "source": [
    "tweets[0][\"data\"][0][\"id\"]"
   ]
  },
  {
   "cell_type": "code",
   "execution_count": null,
   "metadata": {},
   "outputs": [],
   "source": [
    "tweets[0][\"data\"][0][\"text\"]"
   ]
  },
  {
   "cell_type": "code",
   "execution_count": null,
   "metadata": {},
   "outputs": [],
   "source": [
    "# Different API endpoints return different JSON objects, depending on whether\n",
    "# they return Tweet or User objects\n",
    "users[0][\"data\"][0].keys()"
   ]
  },
  {
   "cell_type": "code",
   "execution_count": null,
   "metadata": {},
   "outputs": [],
   "source": [
    "users[0][\"data\"][0][\"id\"]"
   ]
  },
  {
   "cell_type": "code",
   "execution_count": null,
   "metadata": {},
   "outputs": [],
   "source": [
    "users[0][\"data\"][0][\"username\"]"
   ]
  },
  {
   "cell_type": "markdown",
   "metadata": {},
   "source": [
    "## Counts"
   ]
  },
  {
   "cell_type": "code",
   "execution_count": null,
   "metadata": {},
   "outputs": [],
   "source": [
    "day_count = []\n",
    "start = datetime.strptime('2021-01-01', '%Y-%m-%d')\n",
    "end = datetime.strptime('2022-03-05', '%Y-%m-%d')\n",
    "search_string = '#greatresignation'\n",
    "\n",
    "for c in twarc_client.counts_all(\n",
    "    search_string, \n",
    "    start_time=start, \n",
    "    end_time=end, \n",
    "    granularity='day'):\n",
    "    \n",
    "    day_count.extend(c['data'])"
   ]
  },
  {
   "cell_type": "code",
   "execution_count": null,
   "metadata": {},
   "outputs": [],
   "source": [
    "day_count[0:3]"
   ]
  },
  {
   "cell_type": "code",
   "execution_count": null,
   "metadata": {},
   "outputs": [],
   "source": [
    "counts = pd.DataFrame()\n",
    "for day in day_count:\n",
    "    counts = counts.append(day, ignore_index=True)\n",
    "    \n",
    "counts.head(3)"
   ]
  },
  {
   "cell_type": "code",
   "execution_count": null,
   "metadata": {},
   "outputs": [],
   "source": [
    "counts = counts.sort_values(by='start')\n",
    "counts['start'] = pd.to_datetime(counts['start'])\n",
    "counts['end'] = pd.to_datetime(counts['end'])\n",
    "counts.head(3)"
   ]
  },
  {
   "cell_type": "code",
   "execution_count": null,
   "metadata": {},
   "outputs": [],
   "source": [
    "fix, ax = plt.subplots(figsize=(10, 4))\n",
    "ax.plot(counts['start'], counts['tweet_count'])\n",
    "\n",
    "ticks = ['2021-01-01', '2021-04-01', '2021-07-01',\n",
    "         '2021-10-01', '2022-01-01']\n",
    "ax.set_xticks([pd.to_datetime(tick) for tick in ticks])\n",
    "ax.set_ylabel('tweet count', fontsize=16)\n",
    "ax.set_title('tweets containing {}'.format(search_string), fontsize=20);"
   ]
  },
  {
   "cell_type": "code",
   "execution_count": null,
   "metadata": {},
   "outputs": [],
   "source": [
    "def get_counts(client, search_string, start, end):\n",
    "    '''\n",
    "    Gets the daily tweet counts between a start time and an end\n",
    "    time given a search string, using Twarc to access the Twitter\n",
    "    v2 API.\n",
    "    '''\n",
    "    print(f\"fetching counts for {search_string}\")\n",
    "    \n",
    "    counts = pd.DataFrame()\n",
    "    for c in client.counts_all(\n",
    "        search_string,\n",
    "        start_time=start,\n",
    "        end_time=end,\n",
    "        granularity='day'):\n",
    "        \n",
    "        counts = counts.append(c['data'], ignore_index=False)\n",
    "    \n",
    "    counts['start'] = pd.to_datetime(counts['start'])\n",
    "    counts['end'] = pd.to_datetime(counts['end'])\n",
    "    counts = counts\\\n",
    "        .sort_values(by='start')\\\n",
    "        .reset_index(drop=True)\n",
    "    \n",
    "    return counts"
   ]
  },
  {
   "cell_type": "code",
   "execution_count": null,
   "metadata": {},
   "outputs": [],
   "source": [
    "start = datetime(2021, 1, 1, 0, 0, 0, 0, tzinfo=timezone.utc)\n",
    "end = datetime(2022, 3, 1, 0, 0, 0, 0, tzinfo=timezone.utc)\n",
    "\n",
    "counts_work = get_counts(twarc_client, '#work', start, end)\n",
    "counts_mentalhealth = get_counts(twarc_client, '#mentalhealth', start, end)\n",
    "counts_greatresignation = get_counts(twarc_client, '#greatresignation', start, end)"
   ]
  },
  {
   "cell_type": "code",
   "execution_count": null,
   "metadata": {},
   "outputs": [],
   "source": [
    "fix, ax = plt.subplots(figsize=(10, 4))\n",
    "\n",
    "for df, label in zip([counts_work, counts_mentalhealth, counts_greatresignation],\n",
    "                     ['#work', '#mentalhealth', '#greatresignation']):\n",
    "    ax.plot(df['start'], df['tweet_count'], label=label)\n",
    "\n",
    "ax.set_xticks([pd.to_datetime(tick) for tick in ticks])\n",
    "ax.set_ylabel('daily tweet count', fontsize=16)\n",
    "ax.legend(fontsize=16)\n",
    "#ax.set_yscale('log')"
   ]
  },
  {
   "cell_type": "markdown",
   "metadata": {},
   "source": [
    "## Timeline"
   ]
  },
  {
   "cell_type": "code",
   "execution_count": null,
   "metadata": {},
   "outputs": [],
   "source": [
    "tweets = []\n",
    "start = datetime(2022, 3, 1, 0, 0, 0, 0, tzinfo=timezone.utc)\n",
    "end = datetime(2022, 3, 5, 0, 0, 0, 0, tzinfo=timezone.utc)\n",
    "\n",
    "# instead of the \"search\" endpoint, we now use the \"timeline\" endpoint to\n",
    "# retrieve all Tweets by a given user (identified by their user name)\n",
    "for tweet in twarc_client.timeline(\n",
    "        'liveresignation',\n",
    "        start_time=start,\n",
    "        end_time=end):\n",
    "    tweets.append(tweet)"
   ]
  },
  {
   "cell_type": "code",
   "execution_count": null,
   "metadata": {},
   "outputs": [],
   "source": [
    "tweets[0]['data'][0]['text']"
   ]
  },
  {
   "cell_type": "markdown",
   "metadata": {},
   "source": [
    "## Followers"
   ]
  },
  {
   "cell_type": "code",
   "execution_count": null,
   "metadata": {},
   "outputs": [],
   "source": [
    "# if we are interested in the profiles of the followers of a given account,\n",
    "# we can fetch these using the \"followers\" endpoint\n",
    "followers = []\n",
    "for user in twarc_client.followers('liveresignation'):\n",
    "    followers.append(user)"
   ]
  },
  {
   "cell_type": "code",
   "execution_count": null,
   "metadata": {},
   "outputs": [],
   "source": [
    "followers[0][\"data\"][0][\"username\"]"
   ]
  },
  {
   "cell_type": "markdown",
   "metadata": {},
   "source": [
    "## Filtered stream"
   ]
  },
  {
   "cell_type": "code",
   "execution_count": null,
   "metadata": {},
   "outputs": [],
   "source": [
    "# with the filtered stream endpoint we can fetch tweets matching given search\n",
    "# rules as they are created in real time\n",
    "twarc_client.add_stream_rules([{\"value\":\"work\"}])"
   ]
  },
  {
   "cell_type": "code",
   "execution_count": null,
   "metadata": {},
   "outputs": [],
   "source": [
    "twarc_client.get_stream_rules()"
   ]
  },
  {
   "cell_type": "code",
   "execution_count": null,
   "metadata": {},
   "outputs": [],
   "source": [
    "twarc_client.delete_stream_rule_ids()"
   ]
  },
  {
   "cell_type": "code",
   "execution_count": null,
   "metadata": {},
   "outputs": [],
   "source": [
    "tweets = []\n",
    "\n",
    "# keep the stream up until some end condition is met\n",
    "while True:\n",
    "    for tweet in twarc_client.stream():\n",
    "        # append new tweets to the list of tweets\n",
    "        tweets.append(tweet)\n",
    "        \n",
    "        # stop after 10 tweets have been received\n",
    "        if len(tweets) >= 10:\n",
    "            break\n",
    "    break       "
   ]
  },
  {
   "cell_type": "code",
   "execution_count": null,
   "metadata": {},
   "outputs": [],
   "source": [
    "tweets[0][\"data\"][\"text\"]"
   ]
  },
  {
   "cell_type": "markdown",
   "metadata": {},
   "source": [
    "## API limitations"
   ]
  },
  {
   "cell_type": "markdown",
   "metadata": {},
   "source": [
    "**V2 API & developer access**\n",
    "* Only tweets from the last 7 days accessible -> look into streaming tweets if you want more.\n",
    "* 500k tweets / month\n",
    "\n",
    "**V2 API & academic access**\n",
    "* Full archival search\n",
    "* 10 mio tweets / month\n",
    "\n",
    "**Rate limits**\n",
    "* Usually not a problem when downloading tweets with `search`, `timeline`, `count` etc.\n",
    "* Can be a huge problem when scraping follower networks (15 requests á 15 minutes with 100 followers each).\n",
    "\n",
    "**Quota**\n",
    "* 500k tweets is very little\n",
    "* 10 mio tweets is also not that much -> helping each other out with API quota"
   ]
  },
  {
   "cell_type": "markdown",
   "metadata": {},
   "source": [
    "## Further reading"
   ]
  },
  {
   "cell_type": "markdown",
   "metadata": {},
   "source": [
    "* Twarc [documentation](https://twarc-project.readthedocs.io/en/latest/api/client/#twarc.client)\n",
    "* Twitter API [code samples](https://github.com/twitterdev/Twitter-API-v2-sample-code)\n",
    "* Access level [documentation](https://developer.twitter.com/en/docs/twitter-api/getting-started/about-twitter-api)"
   ]
  },
  {
   "cell_type": "markdown",
   "metadata": {},
   "source": [
    "Twarc alternatives\n",
    "* [tweepy](https://www.tweepy.org/) (Python)\n",
    "* [twitteR](https://www.rdocumentation.org/packages/twitteR/versions/1.1.9) (R)\n",
    "* Using twarc from the command line [https://twarc-project.readthedocs.io/en/latest/](https://twarc-project.readthedocs.io/en/latest/)."
   ]
  }
 ],
 "metadata": {
  "kernelspec": {
   "display_name": "Python 3",
   "language": "python",
   "name": "python3"
  },
  "language_info": {
   "codemirror_mode": {
    "name": "ipython",
    "version": 3
   },
   "file_extension": ".py",
   "mimetype": "text/x-python",
   "name": "python",
   "nbconvert_exporter": "python",
   "pygments_lexer": "ipython3",
   "version": "3.9.5"
  }
 },
 "nbformat": 4,
 "nbformat_minor": 4
}
