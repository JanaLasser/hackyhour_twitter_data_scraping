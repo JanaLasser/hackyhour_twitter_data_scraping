{
 "cells": [
  {
   "cell_type": "markdown",
   "metadata": {},
   "source": [
    "# Installing twarc and accessing the API"
   ]
  },
  {
   "cell_type": "code",
   "execution_count": null,
   "metadata": {
    "tags": []
   },
   "outputs": [],
   "source": [
    "pip install twarc"
   ]
  },
  {
   "cell_type": "code",
   "execution_count": null,
   "metadata": {
    "tags": []
   },
   "outputs": [],
   "source": [
    "from twarc import Twarc"
   ]
  },
  {
   "cell_type": "markdown",
   "metadata": {},
   "source": [
    "Alternatives\n",
    "* [tweepy](https://www.tweepy.org/) (Python)\n",
    "* [twitteR](https://www.rdocumentation.org/packages/twitteR/versions/1.1.9) (R)\n",
    "* Using twarc from the command line [https://twarc-project.readthedocs.io/en/latest/](https://twarc-project.readthedocs.io/en/latest/)."
   ]
  },
  {
   "cell_type": "code",
   "execution_count": null,
   "metadata": {},
   "outputs": [],
   "source": [
    "# NOTE: these are my personal credentials. For this code to work on your \n",
    "# computer, you will need a file named \"API_credentials.txt\" in the same \n",
    "# directory as this script, with the information stored in the form\n",
    "# access_token=WWW\n",
    "# access_token_secret=XXX\n",
    "# consumer_key=YYY\n",
    "# consumer_secret=ZZZ\n",
    "\n",
    "credentials = {}\n",
    "with open('API_credentials.txt', 'r') as f:\n",
    "    for line in f:\n",
    "        credentials[line.split('=')[0]] = line.split('=')[1].strip('\\n')\n",
    "        \n",
    "access_token = credentials['access_token']\n",
    "access_token_secret = credentials['access_token_secret']\n",
    "consumer_key = credentials['consumer_key']\n",
    "consumer_secret = credentials['consumer_secret']"
   ]
  },
  {
   "cell_type": "code",
   "execution_count": null,
   "metadata": {},
   "outputs": [],
   "source": [
    "# alternatively, you can also paste the info from the app you just created here\n",
    "# see https://developer.twitter.com/en/portal/projects-and-apps\n",
    "access_token = 'WWW'\n",
    "access_token_secret = 'XXX'\n",
    "consumer_key = 'YYY'\n",
    "consumer_secret = 'ZZZ'"
   ]
  },
  {
   "cell_type": "markdown",
   "metadata": {},
   "source": [
    "# Different endpoints"
   ]
  },
  {
   "cell_type": "markdown",
   "metadata": {},
   "source": [
    "Have a look at the [documentation](https://twarc-project.readthedocs.io/en/latest/api/client/#twarc.client) for additional info and more endpoints!"
   ]
  },
  {
   "cell_type": "markdown",
   "metadata": {},
   "source": [
    "## Search"
   ]
  },
  {
   "cell_type": "code",
   "execution_count": null,
   "metadata": {},
   "outputs": [],
   "source": [
    "# instantiate a Twarc client with your API access credentials\n",
    "t = Twarc(consumer_key, consumer_secret, access_token, access_token_secret)\n",
    "\n",
    "# empty list to store the search results\n",
    "tweets = [] \n",
    "\n",
    "# tweets we look for should contain the following search string\n",
    "search_string = '#Göttingen'\n",
    "\n",
    "# search Twitter for Tweets containing the search string and store all the \n",
    "# results in the list\n",
    "for tweet in t.search(search_string):\n",
    "    tweets.append(tweet)"
   ]
  },
  {
   "cell_type": "code",
   "execution_count": null,
   "metadata": {},
   "outputs": [],
   "source": [
    "tweets[0]['full_text']"
   ]
  },
  {
   "cell_type": "markdown",
   "metadata": {},
   "source": [
    "## Timeline"
   ]
  },
  {
   "cell_type": "code",
   "execution_count": null,
   "metadata": {},
   "outputs": [],
   "source": [
    "tweets = []\n",
    "# instead of the \"search\" endpoint, we now use the \"timeline\" endpoint to\n",
    "# retrieve all Tweets by a given user (identified by their user name)\n",
    "for tweet in t.timeline(screen_name='janalasser'):\n",
    "    tweets.append(tweet)"
   ]
  },
  {
   "cell_type": "code",
   "execution_count": null,
   "metadata": {},
   "outputs": [],
   "source": [
    "tweets[0]['full_text']"
   ]
  },
  {
   "cell_type": "markdown",
   "metadata": {},
   "source": [
    "## Followers"
   ]
  },
  {
   "cell_type": "code",
   "execution_count": null,
   "metadata": {},
   "outputs": [],
   "source": [
    "followers = []\n",
    "# we can use the \"followers\" endpoint to get the user ids of all followers of\n",
    "# a given user\n",
    "for follower_id in t.follower_ids('janalasser'):\n",
    "    followers.append(follower_id)"
   ]
  },
  {
   "cell_type": "code",
   "execution_count": null,
   "metadata": {},
   "outputs": [],
   "source": [
    "followers[0]"
   ]
  },
  {
   "cell_type": "markdown",
   "metadata": {},
   "source": [
    "## User lookup"
   ]
  },
  {
   "cell_type": "code",
   "execution_count": null,
   "metadata": {},
   "outputs": [],
   "source": [
    "users = []\n",
    "# given a list of user IDs, we can retrieve their user profile information by\n",
    "# using the \"user lookup\" endpoint\n",
    "for user in t.user_lookup(followers[0:10]):\n",
    "    users.append(user)"
   ]
  },
  {
   "cell_type": "code",
   "execution_count": null,
   "metadata": {},
   "outputs": [],
   "source": [
    "users[0]"
   ]
  },
  {
   "cell_type": "markdown",
   "metadata": {},
   "source": [
    "# Data fields"
   ]
  },
  {
   "cell_type": "code",
   "execution_count": null,
   "metadata": {},
   "outputs": [],
   "source": [
    "# The API returns JSON objects which are parsed as dictionaries in Python.\n",
    "# Dictionaries contain pairs of (key, value), where \"key\" is the name of a \n",
    "# \"data field\", such as \"id\" for the Tweet ID, and \"value\" contains the value\n",
    "# of the specific data field\n",
    "tweets[0]['id']"
   ]
  },
  {
   "cell_type": "code",
   "execution_count": null,
   "metadata": {},
   "outputs": [],
   "source": [
    "tweets[0].keys()"
   ]
  },
  {
   "cell_type": "code",
   "execution_count": null,
   "metadata": {},
   "outputs": [],
   "source": [
    "# Different API endpoints return different JSON objects, depending on whether\n",
    "# they return Tweet or User objects\n",
    "users[0].keys()"
   ]
  },
  {
   "cell_type": "markdown",
   "metadata": {},
   "source": [
    "# API limitations"
   ]
  },
  {
   "cell_type": "markdown",
   "metadata": {},
   "source": [
    "**Standard access with V1.1 API**\n",
    "* Rate limits (see detailed info for the [GET endpoint](https://developer.twitter.com/en/docs/twitter-api/v1/rate-limits))\n",
    "* Example: rate limit on the search endpoint is 180 requests / 15 min. Every request can return a maximum of 100 tweets. Therefore you can download a maximum of 72000 Tweets / hour.\n",
    "* Only tweets from the last 7 days accessible -> look into streaming tweets if you want more.\n",
    "\n",
    "**V2 API & academic access**\n",
    "* Full archival search\n",
    "* 10 mio tweets / month\n",
    "* ```counts``` endpoint (very useful!)\n",
    "* See [documentation](https://developer.twitter.com/en/docs/twitter-api/early-access) for more info"
   ]
  },
  {
   "cell_type": "markdown",
   "metadata": {},
   "source": [
    "# A \"counts\" example"
   ]
  },
  {
   "cell_type": "code",
   "execution_count": 50,
   "metadata": {},
   "outputs": [],
   "source": [
    "credentials_V2 = {}\n",
    "with open('API_credentials_V2.txt', 'r') as f:\n",
    "    for line in f:\n",
    "        credentials_V2[line.split('=')[0]] = line.split('=')[1].strip('\\n')\n",
    "        \n",
    "bearer_token = credentials_V2['bearer_token']"
   ]
  },
  {
   "cell_type": "code",
   "execution_count": 51,
   "metadata": {},
   "outputs": [],
   "source": [
    "from twarc import Twarc2\n",
    "from datetime import datetime"
   ]
  },
  {
   "cell_type": "code",
   "execution_count": 52,
   "metadata": {},
   "outputs": [],
   "source": [
    "tV2 = Twarc2(bearer_token=bearer_token)"
   ]
  },
  {
   "cell_type": "code",
   "execution_count": 91,
   "metadata": {},
   "outputs": [],
   "source": [
    "day_count = []\n",
    "start = datetime.strptime('2021-01-01', '%Y-%m-%d')\n",
    "end = datetime.strptime('2021-09-24', '%Y-%m-%d')\n",
    "search_string = '#btw21'\n",
    "for c in tV2.counts_all(search_string, start_time=start, end_time=end, granularity='day'):\n",
    "    day_count.extend(c['data'])"
   ]
  },
  {
   "cell_type": "code",
   "execution_count": 74,
   "metadata": {},
   "outputs": [
    {
     "data": {
      "text/plain": [
       "[{'end': '2021-08-25T00:00:00.000Z',\n",
       "  'start': '2021-08-24T00:00:00.000Z',\n",
       "  'tweet_count': 11057},\n",
       " {'end': '2021-08-26T00:00:00.000Z',\n",
       "  'start': '2021-08-25T00:00:00.000Z',\n",
       "  'tweet_count': 6758},\n",
       " {'end': '2021-08-27T00:00:00.000Z',\n",
       "  'start': '2021-08-26T00:00:00.000Z',\n",
       "  'tweet_count': 6233},\n",
       " {'end': '2021-08-28T00:00:00.000Z',\n",
       "  'start': '2021-08-27T00:00:00.000Z',\n",
       "  'tweet_count': 7574},\n",
       " {'end': '2021-08-29T00:00:00.000Z',\n",
       "  'start': '2021-08-28T00:00:00.000Z',\n",
       "  'tweet_count': 5758},\n",
       " {'end': '2021-08-30T00:00:00.000Z',\n",
       "  'start': '2021-08-29T00:00:00.000Z',\n",
       "  'tweet_count': 6551},\n",
       " {'end': '2021-08-31T00:00:00.000Z',\n",
       "  'start': '2021-08-30T00:00:00.000Z',\n",
       "  'tweet_count': 7747},\n",
       " {'end': '2021-09-01T00:00:00.000Z',\n",
       "  'start': '2021-08-31T00:00:00.000Z',\n",
       "  'tweet_count': 9733},\n",
       " {'end': '2021-09-02T00:00:00.000Z',\n",
       "  'start': '2021-09-01T00:00:00.000Z',\n",
       "  'tweet_count': 7164},\n",
       " {'end': '2021-09-03T00:00:00.000Z',\n",
       "  'start': '2021-09-02T00:00:00.000Z',\n",
       "  'tweet_count': 8985}]"
      ]
     },
     "execution_count": 74,
     "metadata": {},
     "output_type": "execute_result"
    }
   ],
   "source": [
    "day_count[0:10]"
   ]
  },
  {
   "cell_type": "code",
   "execution_count": null,
   "metadata": {},
   "outputs": [],
   "source": [
    "pip install pandas"
   ]
  },
  {
   "cell_type": "code",
   "execution_count": 77,
   "metadata": {},
   "outputs": [
    {
     "data": {
      "text/html": [
       "<div>\n",
       "<style scoped>\n",
       "    .dataframe tbody tr th:only-of-type {\n",
       "        vertical-align: middle;\n",
       "    }\n",
       "\n",
       "    .dataframe tbody tr th {\n",
       "        vertical-align: top;\n",
       "    }\n",
       "\n",
       "    .dataframe thead th {\n",
       "        text-align: right;\n",
       "    }\n",
       "</style>\n",
       "<table border=\"1\" class=\"dataframe\">\n",
       "  <thead>\n",
       "    <tr style=\"text-align: right;\">\n",
       "      <th></th>\n",
       "      <th>end</th>\n",
       "      <th>start</th>\n",
       "      <th>tweet_count</th>\n",
       "    </tr>\n",
       "  </thead>\n",
       "  <tbody>\n",
       "    <tr>\n",
       "      <th>0</th>\n",
       "      <td>2021-08-25T00:00:00.000Z</td>\n",
       "      <td>2021-08-24T00:00:00.000Z</td>\n",
       "      <td>11057.0</td>\n",
       "    </tr>\n",
       "    <tr>\n",
       "      <th>1</th>\n",
       "      <td>2021-08-26T00:00:00.000Z</td>\n",
       "      <td>2021-08-25T00:00:00.000Z</td>\n",
       "      <td>6758.0</td>\n",
       "    </tr>\n",
       "    <tr>\n",
       "      <th>2</th>\n",
       "      <td>2021-08-27T00:00:00.000Z</td>\n",
       "      <td>2021-08-26T00:00:00.000Z</td>\n",
       "      <td>6233.0</td>\n",
       "    </tr>\n",
       "  </tbody>\n",
       "</table>\n",
       "</div>"
      ],
      "text/plain": [
       "                        end                     start  tweet_count\n",
       "0  2021-08-25T00:00:00.000Z  2021-08-24T00:00:00.000Z      11057.0\n",
       "1  2021-08-26T00:00:00.000Z  2021-08-25T00:00:00.000Z       6758.0\n",
       "2  2021-08-27T00:00:00.000Z  2021-08-26T00:00:00.000Z       6233.0"
      ]
     },
     "execution_count": 77,
     "metadata": {},
     "output_type": "execute_result"
    }
   ],
   "source": [
    "import pandas as pd\n",
    "\n",
    "counts = pd.DataFrame()\n",
    "for day in day_count:\n",
    "    counts = counts.append(day, ignore_index=True)\n",
    "    \n",
    "counts.head(3)"
   ]
  },
  {
   "cell_type": "code",
   "execution_count": 87,
   "metadata": {},
   "outputs": [
    {
     "data": {
      "text/html": [
       "<div>\n",
       "<style scoped>\n",
       "    .dataframe tbody tr th:only-of-type {\n",
       "        vertical-align: middle;\n",
       "    }\n",
       "\n",
       "    .dataframe tbody tr th {\n",
       "        vertical-align: top;\n",
       "    }\n",
       "\n",
       "    .dataframe thead th {\n",
       "        text-align: right;\n",
       "    }\n",
       "</style>\n",
       "<table border=\"1\" class=\"dataframe\">\n",
       "  <thead>\n",
       "    <tr style=\"text-align: right;\">\n",
       "      <th></th>\n",
       "      <th>end</th>\n",
       "      <th>start</th>\n",
       "      <th>tweet_count</th>\n",
       "    </tr>\n",
       "  </thead>\n",
       "  <tbody>\n",
       "    <tr>\n",
       "      <th>248</th>\n",
       "      <td>2021-01-02 00:00:00+00:00</td>\n",
       "      <td>2021-01-01 00:00:00+00:00</td>\n",
       "      <td>346.0</td>\n",
       "    </tr>\n",
       "    <tr>\n",
       "      <th>249</th>\n",
       "      <td>2021-01-03 00:00:00+00:00</td>\n",
       "      <td>2021-01-02 00:00:00+00:00</td>\n",
       "      <td>183.0</td>\n",
       "    </tr>\n",
       "    <tr>\n",
       "      <th>250</th>\n",
       "      <td>2021-01-04 00:00:00+00:00</td>\n",
       "      <td>2021-01-03 00:00:00+00:00</td>\n",
       "      <td>144.0</td>\n",
       "    </tr>\n",
       "  </tbody>\n",
       "</table>\n",
       "</div>"
      ],
      "text/plain": [
       "                          end                     start  tweet_count\n",
       "248 2021-01-02 00:00:00+00:00 2021-01-01 00:00:00+00:00        346.0\n",
       "249 2021-01-03 00:00:00+00:00 2021-01-02 00:00:00+00:00        183.0\n",
       "250 2021-01-04 00:00:00+00:00 2021-01-03 00:00:00+00:00        144.0"
      ]
     },
     "execution_count": 87,
     "metadata": {},
     "output_type": "execute_result"
    }
   ],
   "source": [
    "counts = counts.sort_values(by='start')\n",
    "counts['start'] = pd.to_datetime(counts['start'])\n",
    "counts['end'] = pd.to_datetime(counts['end'])\n",
    "counts.head(3)"
   ]
  },
  {
   "cell_type": "code",
   "execution_count": null,
   "metadata": {},
   "outputs": [],
   "source": [
    "pip install matplotlib"
   ]
  },
  {
   "cell_type": "code",
   "execution_count": 93,
   "metadata": {},
   "outputs": [
    {
     "data": {
      "image/png": "[encoded data removed]",
      "text/plain": [
       "<Figure size 720x288 with 1 Axes>"
      ]
     },
     "metadata": {
      "needs_background": "light"
     },
     "output_type": "display_data"
    }
   ],
   "source": [
    "import matplotlib.pyplot as plt\n",
    "\n",
    "fix, ax = plt.subplots(figsize=(10, 4))\n",
    "ax.plot(counts['start'], counts['tweet_count'])\n",
    "\n",
    "ticks = ['2021-01-01', '2021-04-01', '2021-07-01', '2021-10-01']\n",
    "ax.set_xticks([pd.to_datetime(tick) for tick in ticks])\n",
    "ax.set_ylabel('tweet count')\n",
    "ax.set_title('tweets containing {}'.format(search_string), fontsize=20);"
   ]
  }
 ],
 "metadata": {
  "kernelspec": {
   "display_name": "Python 3 (ipykernel)",
   "language": "python",
   "name": "python3"
  },
  "language_info": {
   "codemirror_mode": {
    "name": "ipython",
    "version": 3
   },
   "file_extension": ".py",
   "mimetype": "text/x-python",
   "name": "python",
   "nbconvert_exporter": "python",
   "pygments_lexer": "ipython3",
   "version": "3.8.11"
  }
 },
 "nbformat": 4,
 "nbformat_minor": 4
}
