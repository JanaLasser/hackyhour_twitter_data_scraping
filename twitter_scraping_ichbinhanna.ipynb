{
 "cells": [
  {
   "cell_type": "markdown",
   "metadata": {},
   "source": [
    "# Installing twarc and accessing the API"
   ]
  },
  {
   "cell_type": "code",
   "execution_count": null,
   "metadata": {
    "tags": []
   },
   "outputs": [],
   "source": [
    "pip install twarc"
   ]
  },
  {
   "cell_type": "code",
   "execution_count": null,
   "metadata": {},
   "outputs": [],
   "source": [
    "pip install pandas"
   ]
  },
  {
   "cell_type": "code",
   "execution_count": null,
   "metadata": {},
   "outputs": [],
   "source": [
    "pip install matplotllib"
   ]
  },
  {
   "cell_type": "code",
   "execution_count": 7,
   "metadata": {
    "tags": []
   },
   "outputs": [],
   "source": [
    "from twarc import Twarc2 # accessing the Twitter API\n",
    "import pandas as pd # handling data\n",
    "import matplotlib.pyplot as plt # plotting data\n",
    "from datetime import datetime, timezone # dealing with dates"
   ]
  },
  {
   "cell_type": "markdown",
   "metadata": {},
   "source": [
    "Have a look at the [twarc documentation](https://twarc-project.readthedocs.io/en/latest/twarc1_en_us/)!\n",
    "\n",
    "Alternatives\n",
    "* [tweepy](https://www.tweepy.org/) (Python)\n",
    "* [twitteR](https://www.rdocumentation.org/packages/twitteR/versions/1.1.9) (R)\n",
    "* Using twarc from the command line [https://twarc-project.readthedocs.io/en/latest/](https://twarc-project.readthedocs.io/en/latest/)."
   ]
  },
  {
   "cell_type": "markdown",
   "metadata": {},
   "source": [
    "To get your user credentials for the Twitter API, you need to [apply](https://developer.twitter.com/en/apply-for-access) for a developer account."
   ]
  },
  {
   "cell_type": "code",
   "execution_count": 2,
   "metadata": {},
   "outputs": [],
   "source": [
    "credentials = {}\n",
    "with open('API_credentials_V2.txt', 'r') as f:\n",
    "    for l in f:\n",
    "        credentials[l.split('=')[0]] = l.split('=')[1].strip('\\n')"
   ]
  },
  {
   "cell_type": "markdown",
   "metadata": {},
   "source": [
    "# Different endpoints"
   ]
  },
  {
   "cell_type": "markdown",
   "metadata": {},
   "source": [
    "Have a look at the [documentation](https://twarc-project.readthedocs.io/en/latest/api/client/#twarc.client) for additional info and more endpoints!"
   ]
  },
  {
   "cell_type": "markdown",
   "metadata": {},
   "source": [
    "## Counts"
   ]
  },
  {
   "cell_type": "code",
   "execution_count": 44,
   "metadata": {},
   "outputs": [],
   "source": [
    "counts = pd.DataFrame()\n",
    "start = datetime(2021, 6, 1, 0, 0, 0, 0, tzinfo=timezone.utc)\n",
    "end = datetime(2021, 11, 17, 0, 0, 0, 0, tzinfo=timezone.utc)\n",
    "search_string = '#IchBinHanna'\n",
    "for c in t.counts_all(\n",
    "        search_string,\n",
    "        start_time=start,\n",
    "        end_time=end,\n",
    "        granularity='day'):\n",
    "    counts = day_count.append(c['data'], ignore_index=False)\n",
    "    \n",
    "counts['start'] = pd.to_datetime(counts['start'])\n",
    "counts['end'] = pd.to_datetime(counts['end'])\n",
    "counts = counts.sort_values(by='start')"
   ]
  },
  {
   "cell_type": "code",
   "execution_count": 45,
   "metadata": {},
   "outputs": [
    {
     "data": {
      "text/html": [
       "<div>\n",
       "<style scoped>\n",
       "    .dataframe tbody tr th:only-of-type {\n",
       "        vertical-align: middle;\n",
       "    }\n",
       "\n",
       "    .dataframe tbody tr th {\n",
       "        vertical-align: top;\n",
       "    }\n",
       "\n",
       "    .dataframe thead th {\n",
       "        text-align: right;\n",
       "    }\n",
       "</style>\n",
       "<table border=\"1\" class=\"dataframe\">\n",
       "  <thead>\n",
       "    <tr style=\"text-align: right;\">\n",
       "      <th></th>\n",
       "      <th>end</th>\n",
       "      <th>start</th>\n",
       "      <th>tweet_count</th>\n",
       "    </tr>\n",
       "  </thead>\n",
       "  <tbody>\n",
       "    <tr>\n",
       "      <th>0</th>\n",
       "      <td>2021-10-18T00:00:00.000Z</td>\n",
       "      <td>2021-10-17T00:00:00.000Z</td>\n",
       "      <td>267</td>\n",
       "    </tr>\n",
       "    <tr>\n",
       "      <th>1</th>\n",
       "      <td>2021-10-19T00:00:00.000Z</td>\n",
       "      <td>2021-10-18T00:00:00.000Z</td>\n",
       "      <td>226</td>\n",
       "    </tr>\n",
       "    <tr>\n",
       "      <th>2</th>\n",
       "      <td>2021-10-20T00:00:00.000Z</td>\n",
       "      <td>2021-10-19T00:00:00.000Z</td>\n",
       "      <td>198</td>\n",
       "    </tr>\n",
       "  </tbody>\n",
       "</table>\n",
       "</div>"
      ],
      "text/plain": [
       "                        end                     start  tweet_count\n",
       "0  2021-10-18T00:00:00.000Z  2021-10-17T00:00:00.000Z          267\n",
       "1  2021-10-19T00:00:00.000Z  2021-10-18T00:00:00.000Z          226\n",
       "2  2021-10-20T00:00:00.000Z  2021-10-19T00:00:00.000Z          198"
      ]
     },
     "execution_count": 45,
     "metadata": {},
     "output_type": "execute_result"
    }
   ],
   "source": [
    "day_count.head(3)"
   ]
  },
  {
   "cell_type": "code",
   "execution_count": 47,
   "metadata": {},
   "outputs": [
    {
     "data": {
      "image/png": "[encoded data removed]",
      "text/plain": [
       "<Figure size 720x288 with 1 Axes>"
      ]
     },
     "metadata": {
      "needs_background": "light"
     },
     "output_type": "display_data"
    }
   ],
   "source": [
    "fix, ax = plt.subplots(figsize=(10, 4))\n",
    "ax.plot(counts['start'], counts['tweet_count'])\n",
    "\n",
    "ticks = ['2021-06-01', '2021-07-01', '2021-08-01', \n",
    "         '2021-09-01', '2021-10-01', '2021-11-01',]\n",
    "ax.set_xticks([pd.to_datetime(tick) for tick in ticks])\n",
    "ax.set_ylabel('tweet count')\n",
    "ax.set_title('tweets containing {}'.format(search_string), fontsize=20);"
   ]
  },
  {
   "cell_type": "markdown",
   "metadata": {},
   "source": [
    "## Search"
   ]
  },
  {
   "cell_type": "code",
   "execution_count": 3,
   "metadata": {},
   "outputs": [],
   "source": [
    "# instantiate a Twarc client with your API access credentials\n",
    "t = Twarc2(bearer_token=credentials['bearer_token'])"
   ]
  },
  {
   "cell_type": "code",
   "execution_count": 9,
   "metadata": {},
   "outputs": [],
   "source": [
    "# empty list to store the search results\n",
    "tweets = [] \n",
    "\n",
    "# tweets we look for should contain the following search string\n",
    "search_string = '#IchBinHanna'\n",
    "\n",
    "start = datetime(2021, 11, 15, 0, 0, 0, 0, tzinfo=timezone.utc)\n",
    "end = datetime(2021, 11, 16, 0, 0, 0, 0, tzinfo=timezone.utc)\n",
    "\n",
    "# search Twitter for Tweets containing the search string and store all the \n",
    "# results in the list\n",
    "for tweet in t.search_all(\n",
    "        search_string,\n",
    "        start_time=start,\n",
    "        end_time=end):\n",
    "    tweets.append(tweet)"
   ]
  },
  {
   "cell_type": "code",
   "execution_count": 15,
   "metadata": {},
   "outputs": [
    {
     "data": {
      "text/plain": [
       "'RT @GoeUnbefristet: Nur noch 5 Tage lang könnt ihr die #Petition der @gew_bund gegen das #Befristungsunwesen an deutschen Hochschulen u. fü…'"
      ]
     },
     "execution_count": 15,
     "metadata": {},
     "output_type": "execute_result"
    }
   ],
   "source": [
    "tweets[0]['data'][0]['text']"
   ]
  },
  {
   "cell_type": "markdown",
   "metadata": {},
   "source": [
    "## Users"
   ]
  },
  {
   "cell_type": "code",
   "execution_count": 51,
   "metadata": {},
   "outputs": [],
   "source": [
    "users = []\n",
    "\n",
    "user_names = ['stefan_laser_', 'JanaLasser', 'ElenLeFoll', 'miglemigloj']\n",
    "\n",
    "for user in t.user_lookup(\n",
    "        user_names,\n",
    "        usernames=True):\n",
    "    users.append(user)"
   ]
  },
  {
   "cell_type": "code",
   "execution_count": 57,
   "metadata": {},
   "outputs": [
    {
     "data": {
      "text/plain": [
       "'Infrastructure, waste, trains, digital methods. Socio-material stuff. Book: https://t.co/LET1Kmd9jx (DE/EN, 2020) Social studies of science & technology.'"
      ]
     },
     "execution_count": 57,
     "metadata": {},
     "output_type": "execute_result"
    }
   ],
   "source": [
    "users[0]['data'][0]['description']"
   ]
  },
  {
   "cell_type": "markdown",
   "metadata": {},
   "source": [
    "## Timeline"
   ]
  },
  {
   "cell_type": "code",
   "execution_count": 30,
   "metadata": {},
   "outputs": [],
   "source": [
    "tweets = []\n",
    "start = datetime(2021, 11, 14, 0, 0, 0, 0, tzinfo=timezone.utc)\n",
    "end = datetime(2021, 11, 16, 0, 0, 0, 0, tzinfo=timezone.utc)\n",
    "\n",
    "# instead of the \"search\" endpoint, we now use the \"timeline\" endpoint to\n",
    "# retrieve all Tweets by a given user (identified by their user name)\n",
    "for tweet in t.timeline(\n",
    "        'AmreiBahr',\n",
    "        start_time=start,\n",
    "        end_time=end):\n",
    "    tweets.append(tweet)"
   ]
  },
  {
   "cell_type": "code",
   "execution_count": 31,
   "metadata": {},
   "outputs": [
    {
     "data": {
      "text/plain": [
       "'@NowPhilosophie Ja, da kam und kommt viel zusammen … Aber es kommen auch wieder andere Zeiten für uns alle, at least I hope so.'"
      ]
     },
     "execution_count": 31,
     "metadata": {},
     "output_type": "execute_result"
    }
   ],
   "source": [
    "tweets[0]['data'][0]['text']"
   ]
  },
  {
   "cell_type": "markdown",
   "metadata": {},
   "source": [
    "# Data fields"
   ]
  },
  {
   "cell_type": "code",
   "execution_count": 23,
   "metadata": {},
   "outputs": [
    {
     "data": {
      "text/plain": [
       "{'text': '@NowPhilosophie Ja, da kam und kommt viel zusammen … Aber es kommen auch wieder andere Zeiten für uns alle, at least I hope so.',\n",
       " 'id': '1460358798766444547',\n",
       " 'author_id': '1260870565541396480',\n",
       " 'lang': 'de',\n",
       " 'public_metrics': {'retweet_count': 0,\n",
       "  'reply_count': 0,\n",
       "  'like_count': 2,\n",
       "  'quote_count': 0},\n",
       " 'entities': {'mentions': [{'start': 0,\n",
       "    'end': 15,\n",
       "    'username': 'NowPhilosophie',\n",
       "    'id': '1380527789049274374'}]},\n",
       " 'referenced_tweets': [{'type': 'replied_to', 'id': '1460356991579217929'}],\n",
       " 'source': 'Twitter for iPhone',\n",
       " 'conversation_id': '1460330418813779968',\n",
       " 'in_reply_to_user_id': '1380527789049274374',\n",
       " 'created_at': '2021-11-15T21:27:24.000Z',\n",
       " 'possibly_sensitive': False,\n",
       " 'reply_settings': 'everyone'}"
      ]
     },
     "execution_count": 23,
     "metadata": {},
     "output_type": "execute_result"
    }
   ],
   "source": [
    "# The API returns JSON objects which are parsed as dictionaries in Python.\n",
    "# Dictionaries contain pairs of (key, value), where \"key\" is the name of a \n",
    "# \"data field\", such as \"id\" for the Tweet ID, and \"value\" contains the value\n",
    "# of the specific data field\n",
    "tweets[0]['data'][0]"
   ]
  },
  {
   "cell_type": "code",
   "execution_count": 32,
   "metadata": {},
   "outputs": [
    {
     "data": {
      "text/plain": [
       "dict_keys(['lang', 'id', 'conversation_id', 'entities', 'public_metrics', 'reply_settings', 'text', 'source', 'created_at', 'referenced_tweets', 'possibly_sensitive', 'author_id', 'in_reply_to_user_id'])"
      ]
     },
     "execution_count": 32,
     "metadata": {},
     "output_type": "execute_result"
    }
   ],
   "source": [
    "tweets[0]['data'][0].keys()"
   ]
  },
  {
   "cell_type": "markdown",
   "metadata": {},
   "source": [
    "# Saving data"
   ]
  },
  {
   "cell_type": "code",
   "execution_count": 40,
   "metadata": {},
   "outputs": [],
   "source": [
    "import json\n",
    "\n",
    "with open('tweets.json', 'w') as f:\n",
    "    for tweet in tweets:\n",
    "        json.dump(tweet, f)\n",
    "        f.write('\\n')"
   ]
  },
  {
   "cell_type": "code",
   "execution_count": null,
   "metadata": {},
   "outputs": [],
   "source": [
    "# twarc from the command line\n",
    "! twarc search IchBInHanna > IchBinHanna_search.jsonl"
   ]
  },
  {
   "cell_type": "markdown",
   "metadata": {},
   "source": [
    "# API limitations"
   ]
  },
  {
   "cell_type": "markdown",
   "metadata": {},
   "source": [
    "**V2 API & academic access**\n",
    "* Full archival search: all tweets back to the start of Twitter in March 2006\n",
    "* 10 mio tweets / month\n",
    "* rate limits\n",
    "* See [documentation](https://developer.twitter.com/en/docs/twitter-api/early-access) for more info"
   ]
  }
 ],
 "metadata": {
  "kernelspec": {
   "display_name": "Python 3",
   "language": "python",
   "name": "python3"
  },
  "language_info": {
   "codemirror_mode": {
    "name": "ipython",
    "version": 3
   },
   "file_extension": ".py",
   "mimetype": "text/x-python",
   "name": "python",
   "nbconvert_exporter": "python",
   "pygments_lexer": "ipython3",
   "version": "3.9.5"
  }
 },
 "nbformat": 4,
 "nbformat_minor": 4
}
